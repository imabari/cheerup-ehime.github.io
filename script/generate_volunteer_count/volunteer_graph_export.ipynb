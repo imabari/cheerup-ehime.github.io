{
  "nbformat": 4,
  "nbformat_minor": 0,
  "metadata": {
    "colab": {
      "name": "volunteer_graph_export.ipynb",
      "version": "0.3.2",
      "provenance": [],
      "toc_visible": true
    },
    "kernelspec": {
      "name": "python3",
      "display_name": "Python 3"
    }
  },
  "cells": [
    {
      "metadata": {
        "id": "6wEw05EZnWdK",
        "colab_type": "code",
        "colab": {
          "base_uri": "https://localhost:8080/",
          "height": 1516
        },
        "outputId": "d8bcb4fa-5b55-43b5-9768-64f21607a8de"
      },
      "cell_type": "code",
      "source": [
        "!pip install lxml\n",
        "!pip install seaborn\n",
        "!pip install pytablewriter\n",
        "\n",
        "\n",
        "!apt install fonts-ipafont-gothic\n",
        "!rm /content/.cache/matplotlib/fontList.json"
      ],
      "execution_count": 1,
      "outputs": [
        {
          "output_type": "stream",
          "text": [
            "Collecting lxml\n",
            "\u001b[?25l  Downloading https://files.pythonhosted.org/packages/eb/59/1db3c9c27049e4f832691c6d642df1f5b64763f73942172c44fee22de397/lxml-4.2.4-cp36-cp36m-manylinux1_x86_64.whl (5.8MB)\n",
            "\u001b[K    100% |████████████████████████████████| 5.8MB 5.6MB/s \n",
            "\u001b[?25hInstalling collected packages: lxml\n",
            "Successfully installed lxml-4.2.4\n",
            "Requirement already satisfied: seaborn in /usr/local/lib/python3.6/dist-packages (0.7.1)\n",
            "Collecting pytablewriter\n",
            "\u001b[?25l  Downloading https://files.pythonhosted.org/packages/22/13/a7dd7089f97d69b6367111dedc1fbb49e9cfefb165c260b6573fd6bfcfca/pytablewriter-0.31.0-py2.py3-none-any.whl (50kB)\n",
            "\u001b[K    100% |████████████████████████████████| 51kB 3.3MB/s \n",
            "\u001b[?25hCollecting pathvalidate>=0.20.0 (from pytablewriter)\n",
            "  Downloading https://files.pythonhosted.org/packages/f8/ff/3f6c14cc3b4d28b0011cbf97d70bed788efc4c28c51d39e441d728d4c0f1/pathvalidate-0.21.1-py2.py3-none-any.whl\n",
            "Collecting dominate>=2.3.1 (from pytablewriter)\n",
            "  Downloading https://files.pythonhosted.org/packages/43/b2/3b7d67dd59dab93ae08569384b254323516e8868b453eea5614a53835baf/dominate-2.3.1.tar.gz\n",
            "Collecting toml>=0.9.4 (from pytablewriter)\n",
            "  Downloading https://files.pythonhosted.org/packages/f5/f9/044110c267e6408013b85166a7cfcd352cf85275aa8ce700aa5c0eb407ba/toml-0.9.4.tar.gz\n",
            "Collecting typepy (from pytablewriter)\n",
            "  Downloading https://files.pythonhosted.org/packages/95/23/afc548bd45ea67152122ef5c4cc3212011e9bd87d46d7a83b585595c9bd3/typepy-0.2.0-py2.py3-none-any.whl\n",
            "Collecting XlsxWriter>=1.0.5 (from pytablewriter)\n",
            "\u001b[?25l  Downloading https://files.pythonhosted.org/packages/9c/20/1e74436ca169068ee239f5292f4912c3d4e572eb98d30ebd03f10c2b748e/XlsxWriter-1.0.7-py2.py3-none-any.whl (142kB)\n",
            "\u001b[K    100% |████████████████████████████████| 143kB 6.8MB/s \n",
            "\u001b[?25hCollecting SimpleSQLite>=0.28.1 (from pytablewriter)\n",
            "  Downloading https://files.pythonhosted.org/packages/81/ad/a4e3442fcdb5c911138d36d17fd66c3837a153637c2e21d8803f3075085c/SimpleSQLite-0.30.1-py2.py3-none-any.whl\n",
            "Collecting simplejson>=3.16.0 (from pytablewriter)\n",
            "\u001b[?25l  Downloading https://files.pythonhosted.org/packages/e3/24/c35fb1c1c315fc0fffe61ea00d3f88e85469004713dab488dee4f35b0aff/simplejson-3.16.0.tar.gz (81kB)\n",
            "\u001b[K    100% |████████████████████████████████| 81kB 7.9MB/s \n",
            "\u001b[?25hCollecting msgfy>=0.0.2 (from pytablewriter)\n",
            "  Downloading https://files.pythonhosted.org/packages/8d/b2/6db92fca4f138b5ca609bfea3a178d263fd426c2bc45daefbb0c99e47e2e/msgfy-0.0.2-py2.py3-none-any.whl\n",
            "Collecting tabledata>=0.0.22 (from pytablewriter)\n",
            "  Downloading https://files.pythonhosted.org/packages/c4/8a/aa955d66a9959828adb4ca293833320db5e4817a170a78e15b14a00210a4/tabledata-0.0.22-py2.py3-none-any.whl\n",
            "Collecting mbstrdecoder (from pytablewriter)\n",
            "  Downloading https://files.pythonhosted.org/packages/fc/f9/22f9de8857dd6c6ae6f737baf7360ffcee42bea70623010d7d9a397183e1/mbstrdecoder-0.4.1-py2.py3-none-any.whl\n",
            "Requirement already satisfied: six in /usr/local/lib/python3.6/dist-packages (from pytablewriter) (1.11.0)\n",
            "Collecting logbook (from pytablewriter)\n",
            "\u001b[?25l  Downloading https://files.pythonhosted.org/packages/36/4b/b610bee18d5cfc4cec7dde056639994e9b34991e4c57816bfff0f3d0ac33/Logbook-1.4.0.tar.gz (84kB)\n",
            "\u001b[K    100% |████████████████████████████████| 92kB 9.6MB/s \n",
            "\u001b[?25hRequirement already satisfied: setuptools>=38.3.0 in /usr/local/lib/python3.6/dist-packages (from pytablewriter) (39.1.0)\n",
            "Collecting DataProperty>=0.31.1 (from pytablewriter)\n",
            "  Downloading https://files.pythonhosted.org/packages/28/bf/01d11ff2b8bc177d067ff86c8161879c0ecd9109386c5d5c12c1cecfaafa/DataProperty-0.31.2-py2.py3-none-any.whl\n",
            "Collecting python-dateutil>=2.7.3 (from typepy->pytablewriter)\n",
            "\u001b[?25l  Downloading https://files.pythonhosted.org/packages/cf/f5/af2b09c957ace60dcfac112b669c45c8c97e32f94aa8b56da4c6d1682825/python_dateutil-2.7.3-py2.py3-none-any.whl (211kB)\n",
            "\u001b[K    100% |████████████████████████████████| 215kB 8.4MB/s \n",
            "\u001b[?25hRequirement already satisfied: pytz>=2018.5 in /usr/local/lib/python3.6/dist-packages (from typepy->pytablewriter) (2018.5)\n",
            "Collecting sqliteschema>=0.12.0 (from SimpleSQLite>=0.28.1->pytablewriter)\n",
            "  Downloading https://files.pythonhosted.org/packages/85/8c/1acc5a6efe1e7a5f0be53ab147eebda611193b83147d1d94352a51839e7d/sqliteschema-0.12.0-py2.py3-none-any.whl\n",
            "Requirement already satisfied: chardet>=3.0.4 in /usr/local/lib/python3.6/dist-packages (from mbstrdecoder->pytablewriter) (3.0.4)\n",
            "Building wheels for collected packages: dominate, toml, simplejson, logbook\n",
            "  Running setup.py bdist_wheel for dominate ... \u001b[?25l-\b \bdone\n",
            "\u001b[?25h  Stored in directory: /content/.cache/pip/wheels/86/7c/76/a514f343c9e4f85f4c98fe13138ab9c8f756647155c4c1f25e\n",
            "  Running setup.py bdist_wheel for toml ... \u001b[?25l-\b \bdone\n",
            "\u001b[?25h  Stored in directory: /content/.cache/pip/wheels/60/a0/8a/eaebd461aa0abf3d38546b12f3b3234de0a39de13374dad39e\n",
            "  Running setup.py bdist_wheel for simplejson ... \u001b[?25l-\b \b\\\b \b|\b \bdone\n",
            "\u001b[?25h  Stored in directory: /content/.cache/pip/wheels/5d/1a/1e/0350bb3df3e74215cd91325344cc86c2c691f5306eb4d22c77\n",
            "  Running setup.py bdist_wheel for logbook ... \u001b[?25l-\b \b\\\b \bdone\n",
            "\u001b[?25h  Stored in directory: /content/.cache/pip/wheels/3a/50/0d/b67da0bb2a56061970cdf37a5e95fb07d9106200f33044616e\n",
            "Successfully built dominate toml simplejson logbook\n",
            "Installing collected packages: pathvalidate, dominate, toml, python-dateutil, mbstrdecoder, typepy, XlsxWriter, logbook, DataProperty, tabledata, sqliteschema, msgfy, SimpleSQLite, simplejson, pytablewriter\n",
            "  Found existing installation: python-dateutil 2.5.3\n",
            "    Uninstalling python-dateutil-2.5.3:\n",
            "      Successfully uninstalled python-dateutil-2.5.3\n",
            "Successfully installed DataProperty-0.31.2 SimpleSQLite-0.30.1 XlsxWriter-1.0.7 dominate-2.3.1 logbook-1.4.0 mbstrdecoder-0.4.1 msgfy-0.0.2 pathvalidate-0.21.1 pytablewriter-0.31.0 python-dateutil-2.7.3 simplejson-3.16.0 sqliteschema-0.12.0 tabledata-0.0.22 toml-0.9.4 typepy-0.2.0\n",
            "Reading package lists... Done\n",
            "Building dependency tree       \n",
            "Reading state information... Done\n",
            "The following additional packages will be installed:\n",
            "  fonts-ipafont-mincho\n",
            "The following NEW packages will be installed:\n",
            "  fonts-ipafont-gothic fonts-ipafont-mincho\n",
            "0 upgraded, 2 newly installed, 0 to remove and 0 not upgraded.\n",
            "Need to get 8,248 kB of archives.\n",
            "After this operation, 28.7 MB of additional disk space will be used.\n",
            "Get:1 http://archive.ubuntu.com/ubuntu artful/universe amd64 fonts-ipafont-gothic all 00303-17ubuntu1 [3,523 kB]\n",
            "Get:2 http://archive.ubuntu.com/ubuntu artful/universe amd64 fonts-ipafont-mincho all 00303-17ubuntu1 [4,725 kB]\n",
            "Fetched 8,248 kB in 1s (4,540 kB/s)\n",
            "\n",
            "\u001b7\u001b[0;23r\u001b8\u001b[1ASelecting previously unselected package fonts-ipafont-gothic.\n",
            "(Reading database ... 18408 files and directories currently installed.)\n",
            "Preparing to unpack .../fonts-ipafont-gothic_00303-17ubuntu1_all.deb ...\n",
            "\u001b7\u001b[24;0f\u001b[42m\u001b[30mProgress: [  0%]\u001b[49m\u001b[39m [..........................................................] \u001b8\u001b7\u001b[24;0f\u001b[42m\u001b[30mProgress: [  9%]\u001b[49m\u001b[39m [#####.....................................................] \u001b8Unpacking fonts-ipafont-gothic (00303-17ubuntu1) ...\n",
            "\u001b7\u001b[24;0f\u001b[42m\u001b[30mProgress: [ 18%]\u001b[49m\u001b[39m [##########................................................] \u001b8\u001b7\u001b[24;0f\u001b[42m\u001b[30mProgress: [ 27%]\u001b[49m\u001b[39m [###############...........................................] \u001b8Selecting previously unselected package fonts-ipafont-mincho.\n",
            "Preparing to unpack .../fonts-ipafont-mincho_00303-17ubuntu1_all.deb ...\n",
            "\u001b7\u001b[24;0f\u001b[42m\u001b[30mProgress: [ 36%]\u001b[49m\u001b[39m [#####################.....................................] \u001b8Unpacking fonts-ipafont-mincho (00303-17ubuntu1) ...\n",
            "\u001b7\u001b[24;0f\u001b[42m\u001b[30mProgress: [ 45%]\u001b[49m\u001b[39m [##########################................................] \u001b8\u001b7\u001b[24;0f\u001b[42m\u001b[30mProgress: [ 54%]\u001b[49m\u001b[39m [###############################...........................] \u001b8Setting up fonts-ipafont-gothic (00303-17ubuntu1) ...\n",
            "\u001b7\u001b[24;0f\u001b[42m\u001b[30mProgress: [ 63%]\u001b[49m\u001b[39m [####################################......................] \u001b8update-alternatives: using /usr/share/fonts/opentype/ipafont-gothic/ipag.ttf to provide /usr/share/fonts/truetype/fonts-japanese-gothic.ttf (fonts-japanese-gothic.ttf) in auto mode\n",
            "\u001b7\u001b[24;0f\u001b[42m\u001b[30mProgress: [ 72%]\u001b[49m\u001b[39m [##########################################................] \u001b8Setting up fonts-ipafont-mincho (00303-17ubuntu1) ...\n",
            "\u001b7\u001b[24;0f\u001b[42m\u001b[30mProgress: [ 81%]\u001b[49m\u001b[39m [###############################################...........] \u001b8update-alternatives: using /usr/share/fonts/opentype/ipafont-mincho/ipam.ttf to provide /usr/share/fonts/truetype/fonts-japanese-mincho.ttf (fonts-japanese-mincho.ttf) in auto mode\n",
            "\u001b7\u001b[24;0f\u001b[42m\u001b[30mProgress: [ 90%]\u001b[49m\u001b[39m [####################################################......] \u001b8\n",
            "\u001b7\u001b[0;24r\u001b8\u001b[1A\u001b[J"
          ],
          "name": "stdout"
        }
      ]
    },
    {
      "metadata": {
        "id": "bSV13Y-rQbBW",
        "colab_type": "code",
        "colab": {}
      },
      "cell_type": "code",
      "source": [
        "import pandas as pd\n",
        "import matplotlib.pyplot as plt\n",
        "import seaborn as sns\n",
        "import datetime\n",
        "import pytablewriter\n",
        "from google.colab import files\n",
        "\n",
        "# plt.rcParams['font.family'] = 'IPAPGothic'\n",
        "\n",
        "\n",
        "sns.set(font=['IPAPGothic'], font_scale=1.5, style='ticks',rc= {'legend.frameon': True})"
      ],
      "execution_count": 0,
      "outputs": []
    },
    {
      "metadata": {
        "id": "vZOqAM7WcvYw",
        "colab_type": "code",
        "colab": {
          "base_uri": "https://localhost:8080/",
          "height": 1165
        },
        "outputId": "66fe19be-6754-4c6a-922a-dc173ff0e576"
      },
      "cell_type": "code",
      "source": [
        "url = 'https://ehimesvc.jp/?p=70'\n",
        "dfs = pd.read_html(url, index_col=0, na_values=['活動中止', '終了', '休止'])\n",
        "df = dfs[0]\n",
        "\n",
        "# 全部欠測値の行を削除\n",
        "df.dropna(how='all', inplace=True)\n",
        "\n",
        "# 合計の行を削除\n",
        "df.drop('合計', inplace=True)\n",
        "\n",
        "# 月日を変換\n",
        "df['日付'] = pd.to_datetime(df.index, format='%m月%d日')\n",
        "\n",
        "# 年を追加\n",
        "df['日付'] = df['日付'].apply(lambda x:x.replace(year=2018))\n",
        "\n",
        "# 日付をインデックス\n",
        "df.set_index('日付', inplace=True)\n",
        "\n",
        "# 欠損値を全部0に置換\n",
        "df.fillna(0, inplace=True)\n",
        "\n",
        "df"
      ],
      "execution_count": 2,
      "outputs": [
        {
          "output_type": "execute_result",
          "data": {
            "text/html": [
              "<div>\n",
              "<style scoped>\n",
              "    .dataframe tbody tr th:only-of-type {\n",
              "        vertical-align: middle;\n",
              "    }\n",
              "\n",
              "    .dataframe tbody tr th {\n",
              "        vertical-align: top;\n",
              "    }\n",
              "\n",
              "    .dataframe thead th {\n",
              "        text-align: right;\n",
              "    }\n",
              "</style>\n",
              "<table border=\"1\" class=\"dataframe\">\n",
              "  <thead>\n",
              "    <tr style=\"text-align: right;\">\n",
              "      <th></th>\n",
              "      <th>今治市</th>\n",
              "      <th>宇和島市</th>\n",
              "      <th>大洲市</th>\n",
              "      <th>西予市</th>\n",
              "      <th>松野町</th>\n",
              "      <th>鬼北町</th>\n",
              "    </tr>\n",
              "    <tr>\n",
              "      <th>日付</th>\n",
              "      <th></th>\n",
              "      <th></th>\n",
              "      <th></th>\n",
              "      <th></th>\n",
              "      <th></th>\n",
              "      <th></th>\n",
              "    </tr>\n",
              "  </thead>\n",
              "  <tbody>\n",
              "    <tr>\n",
              "      <th>2018-07-10</th>\n",
              "      <td>0.0</td>\n",
              "      <td>35.0</td>\n",
              "      <td>82.0</td>\n",
              "      <td>0.0</td>\n",
              "      <td>0.0</td>\n",
              "      <td>0.0</td>\n",
              "    </tr>\n",
              "    <tr>\n",
              "      <th>2018-07-11</th>\n",
              "      <td>71.0</td>\n",
              "      <td>76.0</td>\n",
              "      <td>177.0</td>\n",
              "      <td>201.0</td>\n",
              "      <td>0.0</td>\n",
              "      <td>9.0</td>\n",
              "    </tr>\n",
              "    <tr>\n",
              "      <th>2018-07-12</th>\n",
              "      <td>50.0</td>\n",
              "      <td>74.0</td>\n",
              "      <td>284.0</td>\n",
              "      <td>180.0</td>\n",
              "      <td>13.0</td>\n",
              "      <td>12.0</td>\n",
              "    </tr>\n",
              "    <tr>\n",
              "      <th>2018-07-13</th>\n",
              "      <td>41.0</td>\n",
              "      <td>198.0</td>\n",
              "      <td>333.0</td>\n",
              "      <td>267.0</td>\n",
              "      <td>33.0</td>\n",
              "      <td>9.0</td>\n",
              "    </tr>\n",
              "    <tr>\n",
              "      <th>2018-07-14</th>\n",
              "      <td>131.0</td>\n",
              "      <td>415.0</td>\n",
              "      <td>587.0</td>\n",
              "      <td>823.0</td>\n",
              "      <td>27.0</td>\n",
              "      <td>88.0</td>\n",
              "    </tr>\n",
              "    <tr>\n",
              "      <th>2018-07-15</th>\n",
              "      <td>126.0</td>\n",
              "      <td>374.0</td>\n",
              "      <td>1099.0</td>\n",
              "      <td>1081.0</td>\n",
              "      <td>44.0</td>\n",
              "      <td>56.0</td>\n",
              "    </tr>\n",
              "    <tr>\n",
              "      <th>2018-07-16</th>\n",
              "      <td>102.0</td>\n",
              "      <td>305.0</td>\n",
              "      <td>491.0</td>\n",
              "      <td>591.0</td>\n",
              "      <td>37.0</td>\n",
              "      <td>50.0</td>\n",
              "    </tr>\n",
              "    <tr>\n",
              "      <th>2018-07-17</th>\n",
              "      <td>37.0</td>\n",
              "      <td>157.0</td>\n",
              "      <td>222.0</td>\n",
              "      <td>210.0</td>\n",
              "      <td>4.0</td>\n",
              "      <td>3.0</td>\n",
              "    </tr>\n",
              "    <tr>\n",
              "      <th>2018-07-18</th>\n",
              "      <td>37.0</td>\n",
              "      <td>241.0</td>\n",
              "      <td>205.0</td>\n",
              "      <td>149.0</td>\n",
              "      <td>4.0</td>\n",
              "      <td>0.0</td>\n",
              "    </tr>\n",
              "    <tr>\n",
              "      <th>2018-07-19</th>\n",
              "      <td>58.0</td>\n",
              "      <td>190.0</td>\n",
              "      <td>178.0</td>\n",
              "      <td>249.0</td>\n",
              "      <td>8.0</td>\n",
              "      <td>0.0</td>\n",
              "    </tr>\n",
              "    <tr>\n",
              "      <th>2018-07-20</th>\n",
              "      <td>44.0</td>\n",
              "      <td>128.0</td>\n",
              "      <td>175.0</td>\n",
              "      <td>177.0</td>\n",
              "      <td>19.0</td>\n",
              "      <td>0.0</td>\n",
              "    </tr>\n",
              "    <tr>\n",
              "      <th>2018-07-21</th>\n",
              "      <td>105.0</td>\n",
              "      <td>470.0</td>\n",
              "      <td>408.0</td>\n",
              "      <td>305.0</td>\n",
              "      <td>21.0</td>\n",
              "      <td>0.0</td>\n",
              "    </tr>\n",
              "    <tr>\n",
              "      <th>2018-07-22</th>\n",
              "      <td>101.0</td>\n",
              "      <td>411.0</td>\n",
              "      <td>365.0</td>\n",
              "      <td>330.0</td>\n",
              "      <td>71.0</td>\n",
              "      <td>0.0</td>\n",
              "    </tr>\n",
              "    <tr>\n",
              "      <th>2018-07-23</th>\n",
              "      <td>32.0</td>\n",
              "      <td>156.0</td>\n",
              "      <td>156.0</td>\n",
              "      <td>138.0</td>\n",
              "      <td>2.0</td>\n",
              "      <td>0.0</td>\n",
              "    </tr>\n",
              "    <tr>\n",
              "      <th>2018-07-24</th>\n",
              "      <td>2.0</td>\n",
              "      <td>273.0</td>\n",
              "      <td>217.0</td>\n",
              "      <td>174.0</td>\n",
              "      <td>3.0</td>\n",
              "      <td>0.0</td>\n",
              "    </tr>\n",
              "    <tr>\n",
              "      <th>2018-07-25</th>\n",
              "      <td>10.0</td>\n",
              "      <td>233.0</td>\n",
              "      <td>169.0</td>\n",
              "      <td>237.0</td>\n",
              "      <td>21.0</td>\n",
              "      <td>0.0</td>\n",
              "    </tr>\n",
              "    <tr>\n",
              "      <th>2018-07-26</th>\n",
              "      <td>20.0</td>\n",
              "      <td>241.0</td>\n",
              "      <td>138.0</td>\n",
              "      <td>108.0</td>\n",
              "      <td>0.0</td>\n",
              "      <td>0.0</td>\n",
              "    </tr>\n",
              "    <tr>\n",
              "      <th>2018-07-27</th>\n",
              "      <td>23.0</td>\n",
              "      <td>252.0</td>\n",
              "      <td>142.0</td>\n",
              "      <td>89.0</td>\n",
              "      <td>0.0</td>\n",
              "      <td>0.0</td>\n",
              "    </tr>\n",
              "    <tr>\n",
              "      <th>2018-07-28</th>\n",
              "      <td>0.0</td>\n",
              "      <td>391.0</td>\n",
              "      <td>154.0</td>\n",
              "      <td>290.0</td>\n",
              "      <td>0.0</td>\n",
              "      <td>0.0</td>\n",
              "    </tr>\n",
              "    <tr>\n",
              "      <th>2018-07-31</th>\n",
              "      <td>0.0</td>\n",
              "      <td>72.0</td>\n",
              "      <td>104.0</td>\n",
              "      <td>75.0</td>\n",
              "      <td>0.0</td>\n",
              "      <td>0.0</td>\n",
              "    </tr>\n",
              "    <tr>\n",
              "      <th>2018-08-01</th>\n",
              "      <td>3.0</td>\n",
              "      <td>318.0</td>\n",
              "      <td>179.0</td>\n",
              "      <td>0.0</td>\n",
              "      <td>0.0</td>\n",
              "      <td>0.0</td>\n",
              "    </tr>\n",
              "    <tr>\n",
              "      <th>2018-08-02</th>\n",
              "      <td>2.0</td>\n",
              "      <td>253.0</td>\n",
              "      <td>81.0</td>\n",
              "      <td>136.0</td>\n",
              "      <td>0.0</td>\n",
              "      <td>0.0</td>\n",
              "    </tr>\n",
              "    <tr>\n",
              "      <th>2018-08-03</th>\n",
              "      <td>2.0</td>\n",
              "      <td>252.0</td>\n",
              "      <td>96.0</td>\n",
              "      <td>78.0</td>\n",
              "      <td>0.0</td>\n",
              "      <td>0.0</td>\n",
              "    </tr>\n",
              "    <tr>\n",
              "      <th>2018-08-04</th>\n",
              "      <td>16.0</td>\n",
              "      <td>300.0</td>\n",
              "      <td>95.0</td>\n",
              "      <td>231.0</td>\n",
              "      <td>0.0</td>\n",
              "      <td>0.0</td>\n",
              "    </tr>\n",
              "    <tr>\n",
              "      <th>2018-08-05</th>\n",
              "      <td>20.0</td>\n",
              "      <td>251.0</td>\n",
              "      <td>134.0</td>\n",
              "      <td>180.0</td>\n",
              "      <td>0.0</td>\n",
              "      <td>0.0</td>\n",
              "    </tr>\n",
              "    <tr>\n",
              "      <th>2018-08-06</th>\n",
              "      <td>3.0</td>\n",
              "      <td>293.0</td>\n",
              "      <td>74.0</td>\n",
              "      <td>136.0</td>\n",
              "      <td>0.0</td>\n",
              "      <td>0.0</td>\n",
              "    </tr>\n",
              "    <tr>\n",
              "      <th>2018-08-07</th>\n",
              "      <td>3.0</td>\n",
              "      <td>146.0</td>\n",
              "      <td>95.0</td>\n",
              "      <td>68.0</td>\n",
              "      <td>0.0</td>\n",
              "      <td>0.0</td>\n",
              "    </tr>\n",
              "    <tr>\n",
              "      <th>2018-08-08</th>\n",
              "      <td>3.0</td>\n",
              "      <td>173.0</td>\n",
              "      <td>101.0</td>\n",
              "      <td>0.0</td>\n",
              "      <td>0.0</td>\n",
              "      <td>0.0</td>\n",
              "    </tr>\n",
              "    <tr>\n",
              "      <th>2018-08-09</th>\n",
              "      <td>3.0</td>\n",
              "      <td>161.0</td>\n",
              "      <td>86.0</td>\n",
              "      <td>118.0</td>\n",
              "      <td>0.0</td>\n",
              "      <td>0.0</td>\n",
              "    </tr>\n",
              "    <tr>\n",
              "      <th>2018-08-10</th>\n",
              "      <td>3.0</td>\n",
              "      <td>174.0</td>\n",
              "      <td>73.0</td>\n",
              "      <td>70.0</td>\n",
              "      <td>0.0</td>\n",
              "      <td>0.0</td>\n",
              "    </tr>\n",
              "    <tr>\n",
              "      <th>2018-08-11</th>\n",
              "      <td>10.0</td>\n",
              "      <td>242.0</td>\n",
              "      <td>59.0</td>\n",
              "      <td>80.0</td>\n",
              "      <td>0.0</td>\n",
              "      <td>0.0</td>\n",
              "    </tr>\n",
              "    <tr>\n",
              "      <th>2018-08-12</th>\n",
              "      <td>8.0</td>\n",
              "      <td>224.0</td>\n",
              "      <td>86.0</td>\n",
              "      <td>0.0</td>\n",
              "      <td>0.0</td>\n",
              "      <td>0.0</td>\n",
              "    </tr>\n",
              "    <tr>\n",
              "      <th>2018-08-13</th>\n",
              "      <td>5.0</td>\n",
              "      <td>0.0</td>\n",
              "      <td>0.0</td>\n",
              "      <td>0.0</td>\n",
              "      <td>0.0</td>\n",
              "      <td>0.0</td>\n",
              "    </tr>\n",
              "    <tr>\n",
              "      <th>2018-08-16</th>\n",
              "      <td>0.0</td>\n",
              "      <td>0.0</td>\n",
              "      <td>59.0</td>\n",
              "      <td>0.0</td>\n",
              "      <td>0.0</td>\n",
              "      <td>0.0</td>\n",
              "    </tr>\n",
              "    <tr>\n",
              "      <th>2018-08-17</th>\n",
              "      <td>0.0</td>\n",
              "      <td>98.0</td>\n",
              "      <td>52.0</td>\n",
              "      <td>39.0</td>\n",
              "      <td>0.0</td>\n",
              "      <td>0.0</td>\n",
              "    </tr>\n",
              "  </tbody>\n",
              "</table>\n",
              "</div>"
            ],
            "text/plain": [
              "              今治市   宇和島市     大洲市     西予市   松野町   鬼北町\n",
              "日付                                                  \n",
              "2018-07-10    0.0   35.0    82.0     0.0   0.0   0.0\n",
              "2018-07-11   71.0   76.0   177.0   201.0   0.0   9.0\n",
              "2018-07-12   50.0   74.0   284.0   180.0  13.0  12.0\n",
              "2018-07-13   41.0  198.0   333.0   267.0  33.0   9.0\n",
              "2018-07-14  131.0  415.0   587.0   823.0  27.0  88.0\n",
              "2018-07-15  126.0  374.0  1099.0  1081.0  44.0  56.0\n",
              "2018-07-16  102.0  305.0   491.0   591.0  37.0  50.0\n",
              "2018-07-17   37.0  157.0   222.0   210.0   4.0   3.0\n",
              "2018-07-18   37.0  241.0   205.0   149.0   4.0   0.0\n",
              "2018-07-19   58.0  190.0   178.0   249.0   8.0   0.0\n",
              "2018-07-20   44.0  128.0   175.0   177.0  19.0   0.0\n",
              "2018-07-21  105.0  470.0   408.0   305.0  21.0   0.0\n",
              "2018-07-22  101.0  411.0   365.0   330.0  71.0   0.0\n",
              "2018-07-23   32.0  156.0   156.0   138.0   2.0   0.0\n",
              "2018-07-24    2.0  273.0   217.0   174.0   3.0   0.0\n",
              "2018-07-25   10.0  233.0   169.0   237.0  21.0   0.0\n",
              "2018-07-26   20.0  241.0   138.0   108.0   0.0   0.0\n",
              "2018-07-27   23.0  252.0   142.0    89.0   0.0   0.0\n",
              "2018-07-28    0.0  391.0   154.0   290.0   0.0   0.0\n",
              "2018-07-31    0.0   72.0   104.0    75.0   0.0   0.0\n",
              "2018-08-01    3.0  318.0   179.0     0.0   0.0   0.0\n",
              "2018-08-02    2.0  253.0    81.0   136.0   0.0   0.0\n",
              "2018-08-03    2.0  252.0    96.0    78.0   0.0   0.0\n",
              "2018-08-04   16.0  300.0    95.0   231.0   0.0   0.0\n",
              "2018-08-05   20.0  251.0   134.0   180.0   0.0   0.0\n",
              "2018-08-06    3.0  293.0    74.0   136.0   0.0   0.0\n",
              "2018-08-07    3.0  146.0    95.0    68.0   0.0   0.0\n",
              "2018-08-08    3.0  173.0   101.0     0.0   0.0   0.0\n",
              "2018-08-09    3.0  161.0    86.0   118.0   0.0   0.0\n",
              "2018-08-10    3.0  174.0    73.0    70.0   0.0   0.0\n",
              "2018-08-11   10.0  242.0    59.0    80.0   0.0   0.0\n",
              "2018-08-12    8.0  224.0    86.0     0.0   0.0   0.0\n",
              "2018-08-13    5.0    0.0     0.0     0.0   0.0   0.0\n",
              "2018-08-16    0.0    0.0    59.0     0.0   0.0   0.0\n",
              "2018-08-17    0.0   98.0    52.0    39.0   0.0   0.0"
            ]
          },
          "metadata": {
            "tags": []
          },
          "execution_count": 2
        }
      ]
    },
    {
      "metadata": {
        "id": "1Q5JEvlYQBAu",
        "colab_type": "code",
        "colab": {
          "base_uri": "https://localhost:8080/",
          "height": 513
        },
        "outputId": "ae267ed4-656f-49b4-fffe-fe006c394f6c"
      },
      "cell_type": "code",
      "source": [
        "# 一週間\n",
        "df2 = df.tail(7)\n",
        "df2.index = df2.index.strftime(\"%m/%d\")\n",
        "\n",
        "df2.plot.bar(stacked=True, alpha=0.8, figsize=(8,8), rot=0, title='愛媛県ボランティア数動向　直近の１週間')\n",
        "\n",
        "fig = plt.gcf()\n",
        "fig.savefig('volunteer_count.png')"
      ],
      "execution_count": 3,
      "outputs": [
        {
          "output_type": "display_data",
          "data": {
            "image/png": "[encoded data removed]",
            "text/plain": [
              "<matplotlib.figure.Figure at 0x7f15bc04af60>"
            ]
          },
          "metadata": {
            "tags": []
          }
        }
      ]
    },
    {
      "metadata": {
        "id": "iHBzx-HQ_fUl",
        "colab_type": "code",
        "colab": {}
      },
      "cell_type": "code",
      "source": [
        "files.download('volunteer_count.png')"
      ],
      "execution_count": 0,
      "outputs": []
    },
    {
      "metadata": {
        "id": "5x2d4Cl_WgJQ",
        "colab_type": "code",
        "colab": {
          "base_uri": "https://localhost:8080/",
          "height": 187
        },
        "outputId": "c68ebd27-5eb6-475a-cc03-b3380b86ca61"
      },
      "cell_type": "code",
      "source": [
        "writer = pytablewriter.MarkdownTableWriter()\n",
        "writer.from_dataframe(df2.reset_index().rename(columns={'index': '日付'}))\n",
        "writer.write_table()"
      ],
      "execution_count": 5,
      "outputs": [
        {
          "output_type": "stream",
          "text": [
            "|日付 |今治市|宇和島市|大洲市|西予市|松野町|鬼北町|\n",
            "|-----|-----:|-------:|-----:|-----:|-----:|-----:|\n",
            "|08/09|     3|     161|    86|   118|     0|     0|\n",
            "|08/10|     3|     174|    73|    70|     0|     0|\n",
            "|08/11|    10|     242|    59|    80|     0|     0|\n",
            "|08/12|     8|     224|    86|     0|     0|     0|\n",
            "|08/13|     5|       0|     0|     0|     0|     0|\n",
            "|08/16|     0|       0|    59|     0|     0|     0|\n",
            "|08/17|     0|      98|    52|    39|     0|     0|\n",
            "\n"
          ],
          "name": "stdout"
        }
      ]
    },
    {
      "metadata": {
        "id": "PulIGhvlRfY1",
        "colab_type": "code",
        "colab": {
          "base_uri": "https://localhost:8080/",
          "height": 515
        },
        "outputId": "fd4bfefb-1ecc-4bb2-8265-deaff902d74b"
      },
      "cell_type": "code",
      "source": [
        "df_w = df.resample('W').sum()\n",
        "df_w.index = df_w.index.strftime(\"%m/%d週\")\n",
        "df_w.T.plot.bar(title='愛媛県ボランティア数動向', alpha=0.8, figsize=(8,8), fontsize=16, rot=0)\n",
        "\n",
        "fig = plt.gcf()\n",
        "fig.savefig('volunteer_count_week.png')"
      ],
      "execution_count": 6,
      "outputs": [
        {
          "output_type": "display_data",
          "data": {
            "image/png": "[encoded data removed]",
            "text/plain": [
              "<matplotlib.figure.Figure at 0x7f15b84571d0>"
            ]
          },
          "metadata": {
            "tags": []
          }
        }
      ]
    },
    {
      "metadata": {
        "id": "yVOIDNYlAJAs",
        "colab_type": "code",
        "colab": {}
      },
      "cell_type": "code",
      "source": [
        "files.download('volunteer_count_week.png')"
      ],
      "execution_count": 0,
      "outputs": []
    },
    {
      "metadata": {
        "id": "QfB19618RuaN",
        "colab_type": "code",
        "colab": {
          "base_uri": "https://localhost:8080/",
          "height": 235
        },
        "outputId": "b1c85271-accc-42e9-b31f-0abe7c637ff6"
      },
      "cell_type": "code",
      "source": [
        "df_w"
      ],
      "execution_count": 8,
      "outputs": [
        {
          "output_type": "execute_result",
          "data": {
            "text/html": [
              "<div>\n",
              "<style scoped>\n",
              "    .dataframe tbody tr th:only-of-type {\n",
              "        vertical-align: middle;\n",
              "    }\n",
              "\n",
              "    .dataframe tbody tr th {\n",
              "        vertical-align: top;\n",
              "    }\n",
              "\n",
              "    .dataframe thead th {\n",
              "        text-align: right;\n",
              "    }\n",
              "</style>\n",
              "<table border=\"1\" class=\"dataframe\">\n",
              "  <thead>\n",
              "    <tr style=\"text-align: right;\">\n",
              "      <th></th>\n",
              "      <th>今治市</th>\n",
              "      <th>宇和島市</th>\n",
              "      <th>大洲市</th>\n",
              "      <th>西予市</th>\n",
              "      <th>松野町</th>\n",
              "      <th>鬼北町</th>\n",
              "    </tr>\n",
              "  </thead>\n",
              "  <tbody>\n",
              "    <tr>\n",
              "      <th>07/15週</th>\n",
              "      <td>419.0</td>\n",
              "      <td>1172.0</td>\n",
              "      <td>2562.0</td>\n",
              "      <td>2552.0</td>\n",
              "      <td>117.0</td>\n",
              "      <td>174.0</td>\n",
              "    </tr>\n",
              "    <tr>\n",
              "      <th>07/22週</th>\n",
              "      <td>484.0</td>\n",
              "      <td>1902.0</td>\n",
              "      <td>2044.0</td>\n",
              "      <td>2011.0</td>\n",
              "      <td>164.0</td>\n",
              "      <td>53.0</td>\n",
              "    </tr>\n",
              "    <tr>\n",
              "      <th>07/29週</th>\n",
              "      <td>87.0</td>\n",
              "      <td>1546.0</td>\n",
              "      <td>976.0</td>\n",
              "      <td>1036.0</td>\n",
              "      <td>26.0</td>\n",
              "      <td>0.0</td>\n",
              "    </tr>\n",
              "    <tr>\n",
              "      <th>08/05週</th>\n",
              "      <td>43.0</td>\n",
              "      <td>1446.0</td>\n",
              "      <td>689.0</td>\n",
              "      <td>700.0</td>\n",
              "      <td>0.0</td>\n",
              "      <td>0.0</td>\n",
              "    </tr>\n",
              "    <tr>\n",
              "      <th>08/12週</th>\n",
              "      <td>33.0</td>\n",
              "      <td>1413.0</td>\n",
              "      <td>574.0</td>\n",
              "      <td>472.0</td>\n",
              "      <td>0.0</td>\n",
              "      <td>0.0</td>\n",
              "    </tr>\n",
              "    <tr>\n",
              "      <th>08/19週</th>\n",
              "      <td>5.0</td>\n",
              "      <td>98.0</td>\n",
              "      <td>111.0</td>\n",
              "      <td>39.0</td>\n",
              "      <td>0.0</td>\n",
              "      <td>0.0</td>\n",
              "    </tr>\n",
              "  </tbody>\n",
              "</table>\n",
              "</div>"
            ],
            "text/plain": [
              "          今治市    宇和島市     大洲市     西予市    松野町    鬼北町\n",
              "07/15週  419.0  1172.0  2562.0  2552.0  117.0  174.0\n",
              "07/22週  484.0  1902.0  2044.0  2011.0  164.0   53.0\n",
              "07/29週   87.0  1546.0   976.0  1036.0   26.0    0.0\n",
              "08/05週   43.0  1446.0   689.0   700.0    0.0    0.0\n",
              "08/12週   33.0  1413.0   574.0   472.0    0.0    0.0\n",
              "08/19週    5.0    98.0   111.0    39.0    0.0    0.0"
            ]
          },
          "metadata": {
            "tags": []
          },
          "execution_count": 8
        }
      ]
    },
    {
      "metadata": {
        "id": "7qkBOYU50vSe",
        "colab_type": "code",
        "colab": {
          "base_uri": "https://localhost:8080/",
          "height": 170
        },
        "outputId": "a3e0f8f0-462a-4b2d-b8c1-b828dcd9a026"
      },
      "cell_type": "code",
      "source": [
        "writer = pytablewriter.MarkdownTableWriter()\n",
        "writer.from_dataframe(df_w.reset_index().rename(columns={'index': '日付'}))\n",
        "writer.write_table()"
      ],
      "execution_count": 9,
      "outputs": [
        {
          "output_type": "stream",
          "text": [
            "| 日付  |今治市|宇和島市|大洲市|西予市|松野町|鬼北町|\n",
            "|-------|-----:|-------:|-----:|-----:|-----:|-----:|\n",
            "|07/15週|   419|    1172|  2562|  2552|   117|   174|\n",
            "|07/22週|   484|    1902|  2044|  2011|   164|    53|\n",
            "|07/29週|    87|    1546|   976|  1036|    26|     0|\n",
            "|08/05週|    43|    1446|   689|   700|     0|     0|\n",
            "|08/12週|    33|    1413|   574|   472|     0|     0|\n",
            "|08/19週|     5|      98|   111|    39|     0|     0|\n",
            "\n"
          ],
          "name": "stdout"
        }
      ]
    },
    {
      "metadata": {
        "id": "An0Ps9svYI3N",
        "colab_type": "code",
        "colab": {
          "base_uri": "https://localhost:8080/",
          "height": 235
        },
        "outputId": "adee0753-7653-4014-cca0-e7e4b3aa41d9"
      },
      "cell_type": "code",
      "source": [
        "df3_ty = df.tail(2).T\n",
        "df3_ty.columns = ['昨日','今日']\n",
        "df3_ty"
      ],
      "execution_count": 10,
      "outputs": [
        {
          "output_type": "execute_result",
          "data": {
            "text/html": [
              "<div>\n",
              "<style scoped>\n",
              "    .dataframe tbody tr th:only-of-type {\n",
              "        vertical-align: middle;\n",
              "    }\n",
              "\n",
              "    .dataframe tbody tr th {\n",
              "        vertical-align: top;\n",
              "    }\n",
              "\n",
              "    .dataframe thead th {\n",
              "        text-align: right;\n",
              "    }\n",
              "</style>\n",
              "<table border=\"1\" class=\"dataframe\">\n",
              "  <thead>\n",
              "    <tr style=\"text-align: right;\">\n",
              "      <th></th>\n",
              "      <th>昨日</th>\n",
              "      <th>今日</th>\n",
              "    </tr>\n",
              "  </thead>\n",
              "  <tbody>\n",
              "    <tr>\n",
              "      <th>今治市</th>\n",
              "      <td>0.0</td>\n",
              "      <td>0.0</td>\n",
              "    </tr>\n",
              "    <tr>\n",
              "      <th>宇和島市</th>\n",
              "      <td>0.0</td>\n",
              "      <td>98.0</td>\n",
              "    </tr>\n",
              "    <tr>\n",
              "      <th>大洲市</th>\n",
              "      <td>59.0</td>\n",
              "      <td>52.0</td>\n",
              "    </tr>\n",
              "    <tr>\n",
              "      <th>西予市</th>\n",
              "      <td>0.0</td>\n",
              "      <td>39.0</td>\n",
              "    </tr>\n",
              "    <tr>\n",
              "      <th>松野町</th>\n",
              "      <td>0.0</td>\n",
              "      <td>0.0</td>\n",
              "    </tr>\n",
              "    <tr>\n",
              "      <th>鬼北町</th>\n",
              "      <td>0.0</td>\n",
              "      <td>0.0</td>\n",
              "    </tr>\n",
              "  </tbody>\n",
              "</table>\n",
              "</div>"
            ],
            "text/plain": [
              "        昨日    今日\n",
              "今治市    0.0   0.0\n",
              "宇和島市   0.0  98.0\n",
              "大洲市   59.0  52.0\n",
              "西予市    0.0  39.0\n",
              "松野町    0.0   0.0\n",
              "鬼北町    0.0   0.0"
            ]
          },
          "metadata": {
            "tags": []
          },
          "execution_count": 10
        }
      ]
    },
    {
      "metadata": {
        "id": "kKcr6HrzeomE",
        "colab_type": "code",
        "colab": {
          "base_uri": "https://localhost:8080/",
          "height": 235
        },
        "outputId": "84d259ff-ed77-4aab-be51-7fba350ca241"
      },
      "cell_type": "code",
      "source": [
        "# 前日比\n",
        "df_pre_day = df.diff().fillna(0)\n",
        "df3_pd = df_pre_day.tail(1).T\n",
        "df3_pd.columns = ['前日比']\n",
        "df3_pd"
      ],
      "execution_count": 11,
      "outputs": [
        {
          "output_type": "execute_result",
          "data": {
            "text/html": [
              "<div>\n",
              "<style scoped>\n",
              "    .dataframe tbody tr th:only-of-type {\n",
              "        vertical-align: middle;\n",
              "    }\n",
              "\n",
              "    .dataframe tbody tr th {\n",
              "        vertical-align: top;\n",
              "    }\n",
              "\n",
              "    .dataframe thead th {\n",
              "        text-align: right;\n",
              "    }\n",
              "</style>\n",
              "<table border=\"1\" class=\"dataframe\">\n",
              "  <thead>\n",
              "    <tr style=\"text-align: right;\">\n",
              "      <th></th>\n",
              "      <th>前日比</th>\n",
              "    </tr>\n",
              "  </thead>\n",
              "  <tbody>\n",
              "    <tr>\n",
              "      <th>今治市</th>\n",
              "      <td>0.0</td>\n",
              "    </tr>\n",
              "    <tr>\n",
              "      <th>宇和島市</th>\n",
              "      <td>98.0</td>\n",
              "    </tr>\n",
              "    <tr>\n",
              "      <th>大洲市</th>\n",
              "      <td>-7.0</td>\n",
              "    </tr>\n",
              "    <tr>\n",
              "      <th>西予市</th>\n",
              "      <td>39.0</td>\n",
              "    </tr>\n",
              "    <tr>\n",
              "      <th>松野町</th>\n",
              "      <td>0.0</td>\n",
              "    </tr>\n",
              "    <tr>\n",
              "      <th>鬼北町</th>\n",
              "      <td>0.0</td>\n",
              "    </tr>\n",
              "  </tbody>\n",
              "</table>\n",
              "</div>"
            ],
            "text/plain": [
              "       前日比\n",
              "今治市    0.0\n",
              "宇和島市  98.0\n",
              "大洲市   -7.0\n",
              "西予市   39.0\n",
              "松野町    0.0\n",
              "鬼北町    0.0"
            ]
          },
          "metadata": {
            "tags": []
          },
          "execution_count": 11
        }
      ]
    },
    {
      "metadata": {
        "id": "z9KWgRWvWTa9",
        "colab_type": "code",
        "colab": {
          "base_uri": "https://localhost:8080/",
          "height": 235
        },
        "outputId": "96b68e14-f877-422a-d4ed-d378f9b515a7"
      },
      "cell_type": "code",
      "source": [
        "# 前週比\n",
        "df_pre_week = df.diff(7).fillna(0)\n",
        "df3_pw = df_pre_week.tail(1).T\n",
        "df3_pw.columns = ['前週比']\n",
        "df3_pw\n"
      ],
      "execution_count": 12,
      "outputs": [
        {
          "output_type": "execute_result",
          "data": {
            "text/html": [
              "<div>\n",
              "<style scoped>\n",
              "    .dataframe tbody tr th:only-of-type {\n",
              "        vertical-align: middle;\n",
              "    }\n",
              "\n",
              "    .dataframe tbody tr th {\n",
              "        vertical-align: top;\n",
              "    }\n",
              "\n",
              "    .dataframe thead th {\n",
              "        text-align: right;\n",
              "    }\n",
              "</style>\n",
              "<table border=\"1\" class=\"dataframe\">\n",
              "  <thead>\n",
              "    <tr style=\"text-align: right;\">\n",
              "      <th></th>\n",
              "      <th>前週比</th>\n",
              "    </tr>\n",
              "  </thead>\n",
              "  <tbody>\n",
              "    <tr>\n",
              "      <th>今治市</th>\n",
              "      <td>-3.0</td>\n",
              "    </tr>\n",
              "    <tr>\n",
              "      <th>宇和島市</th>\n",
              "      <td>-75.0</td>\n",
              "    </tr>\n",
              "    <tr>\n",
              "      <th>大洲市</th>\n",
              "      <td>-49.0</td>\n",
              "    </tr>\n",
              "    <tr>\n",
              "      <th>西予市</th>\n",
              "      <td>39.0</td>\n",
              "    </tr>\n",
              "    <tr>\n",
              "      <th>松野町</th>\n",
              "      <td>0.0</td>\n",
              "    </tr>\n",
              "    <tr>\n",
              "      <th>鬼北町</th>\n",
              "      <td>0.0</td>\n",
              "    </tr>\n",
              "  </tbody>\n",
              "</table>\n",
              "</div>"
            ],
            "text/plain": [
              "       前週比\n",
              "今治市   -3.0\n",
              "宇和島市 -75.0\n",
              "大洲市  -49.0\n",
              "西予市   39.0\n",
              "松野町    0.0\n",
              "鬼北町    0.0"
            ]
          },
          "metadata": {
            "tags": []
          },
          "execution_count": 12
        }
      ]
    },
    {
      "metadata": {
        "id": "7wb5UDqpTHg6",
        "colab_type": "code",
        "colab": {
          "base_uri": "https://localhost:8080/",
          "height": 235
        },
        "outputId": "f18a7bb1-6908-4a07-bce9-f0b021ed537c"
      },
      "cell_type": "code",
      "source": [
        "df3 = pd.concat([df3_ty, df3_pd, df3_pw], axis=1)\n",
        "df3"
      ],
      "execution_count": 13,
      "outputs": [
        {
          "output_type": "execute_result",
          "data": {
            "text/html": [
              "<div>\n",
              "<style scoped>\n",
              "    .dataframe tbody tr th:only-of-type {\n",
              "        vertical-align: middle;\n",
              "    }\n",
              "\n",
              "    .dataframe tbody tr th {\n",
              "        vertical-align: top;\n",
              "    }\n",
              "\n",
              "    .dataframe thead th {\n",
              "        text-align: right;\n",
              "    }\n",
              "</style>\n",
              "<table border=\"1\" class=\"dataframe\">\n",
              "  <thead>\n",
              "    <tr style=\"text-align: right;\">\n",
              "      <th></th>\n",
              "      <th>昨日</th>\n",
              "      <th>今日</th>\n",
              "      <th>前日比</th>\n",
              "      <th>前週比</th>\n",
              "    </tr>\n",
              "  </thead>\n",
              "  <tbody>\n",
              "    <tr>\n",
              "      <th>今治市</th>\n",
              "      <td>0.0</td>\n",
              "      <td>0.0</td>\n",
              "      <td>0.0</td>\n",
              "      <td>-3.0</td>\n",
              "    </tr>\n",
              "    <tr>\n",
              "      <th>宇和島市</th>\n",
              "      <td>0.0</td>\n",
              "      <td>98.0</td>\n",
              "      <td>98.0</td>\n",
              "      <td>-75.0</td>\n",
              "    </tr>\n",
              "    <tr>\n",
              "      <th>大洲市</th>\n",
              "      <td>59.0</td>\n",
              "      <td>52.0</td>\n",
              "      <td>-7.0</td>\n",
              "      <td>-49.0</td>\n",
              "    </tr>\n",
              "    <tr>\n",
              "      <th>西予市</th>\n",
              "      <td>0.0</td>\n",
              "      <td>39.0</td>\n",
              "      <td>39.0</td>\n",
              "      <td>39.0</td>\n",
              "    </tr>\n",
              "    <tr>\n",
              "      <th>松野町</th>\n",
              "      <td>0.0</td>\n",
              "      <td>0.0</td>\n",
              "      <td>0.0</td>\n",
              "      <td>0.0</td>\n",
              "    </tr>\n",
              "    <tr>\n",
              "      <th>鬼北町</th>\n",
              "      <td>0.0</td>\n",
              "      <td>0.0</td>\n",
              "      <td>0.0</td>\n",
              "      <td>0.0</td>\n",
              "    </tr>\n",
              "  </tbody>\n",
              "</table>\n",
              "</div>"
            ],
            "text/plain": [
              "        昨日    今日   前日比   前週比\n",
              "今治市    0.0   0.0   0.0  -3.0\n",
              "宇和島市   0.0  98.0  98.0 -75.0\n",
              "大洲市   59.0  52.0  -7.0 -49.0\n",
              "西予市    0.0  39.0  39.0  39.0\n",
              "松野町    0.0   0.0   0.0   0.0\n",
              "鬼北町    0.0   0.0   0.0   0.0"
            ]
          },
          "metadata": {
            "tags": []
          },
          "execution_count": 13
        }
      ]
    },
    {
      "metadata": {
        "id": "ab0V0VQsCNqG",
        "colab_type": "code",
        "colab": {
          "base_uri": "https://localhost:8080/",
          "height": 142
        },
        "outputId": "761066ac-3252-4f67-9e86-0b1b38d49740"
      },
      "cell_type": "code",
      "source": [
        "df3_filter = df3.loc[['宇和島市', '大洲市', '西予市']]\n",
        "df3_filter"
      ],
      "execution_count": 14,
      "outputs": [
        {
          "output_type": "execute_result",
          "data": {
            "text/html": [
              "<div>\n",
              "<style scoped>\n",
              "    .dataframe tbody tr th:only-of-type {\n",
              "        vertical-align: middle;\n",
              "    }\n",
              "\n",
              "    .dataframe tbody tr th {\n",
              "        vertical-align: top;\n",
              "    }\n",
              "\n",
              "    .dataframe thead th {\n",
              "        text-align: right;\n",
              "    }\n",
              "</style>\n",
              "<table border=\"1\" class=\"dataframe\">\n",
              "  <thead>\n",
              "    <tr style=\"text-align: right;\">\n",
              "      <th></th>\n",
              "      <th>昨日</th>\n",
              "      <th>今日</th>\n",
              "      <th>前日比</th>\n",
              "      <th>前週比</th>\n",
              "    </tr>\n",
              "  </thead>\n",
              "  <tbody>\n",
              "    <tr>\n",
              "      <th>宇和島市</th>\n",
              "      <td>0.0</td>\n",
              "      <td>98.0</td>\n",
              "      <td>98.0</td>\n",
              "      <td>-75.0</td>\n",
              "    </tr>\n",
              "    <tr>\n",
              "      <th>大洲市</th>\n",
              "      <td>59.0</td>\n",
              "      <td>52.0</td>\n",
              "      <td>-7.0</td>\n",
              "      <td>-49.0</td>\n",
              "    </tr>\n",
              "    <tr>\n",
              "      <th>西予市</th>\n",
              "      <td>0.0</td>\n",
              "      <td>39.0</td>\n",
              "      <td>39.0</td>\n",
              "      <td>39.0</td>\n",
              "    </tr>\n",
              "  </tbody>\n",
              "</table>\n",
              "</div>"
            ],
            "text/plain": [
              "        昨日    今日   前日比   前週比\n",
              "宇和島市   0.0  98.0  98.0 -75.0\n",
              "大洲市   59.0  52.0  -7.0 -49.0\n",
              "西予市    0.0  39.0  39.0  39.0"
            ]
          },
          "metadata": {
            "tags": []
          },
          "execution_count": 14
        }
      ]
    },
    {
      "metadata": {
        "id": "_qDIDrQo5Zt1",
        "colab_type": "code",
        "colab": {
          "base_uri": "https://localhost:8080/",
          "height": 119
        },
        "outputId": "2f54938d-b8a8-4172-99bf-c0c7fd50bf21"
      },
      "cell_type": "code",
      "source": [
        "writer = pytablewriter.MarkdownTableWriter()\n",
        "writer.from_dataframe(df3_filter.reset_index().rename(columns={'index': '市町村'}))\n",
        "writer.write_table()"
      ],
      "execution_count": 15,
      "outputs": [
        {
          "output_type": "stream",
          "text": [
            "| 市町村 |昨日|今日|前日比|前週比|\n",
            "|--------|---:|---:|-----:|-----:|\n",
            "|宇和島市|   0|  98|    98|   -75|\n",
            "|大洲市  |  59|  52|    -7|   -49|\n",
            "|西予市  |   0|  39|    39|    39|\n",
            "\n"
          ],
          "name": "stdout"
        }
      ]
    },
    {
      "metadata": {
        "id": "8V56DmDJHzEt",
        "colab_type": "code",
        "colab": {}
      },
      "cell_type": "code",
      "source": [
        "df4 = df.copy()\n",
        "df4.index = df4.index.strftime(\"%d\")"
      ],
      "execution_count": 0,
      "outputs": []
    },
    {
      "metadata": {
        "id": "rBgyiwk0o7f1",
        "colab_type": "code",
        "colab": {
          "base_uri": "https://localhost:8080/",
          "height": 387
        },
        "outputId": "0e61c113-0d66-4b58-b6dc-1e0795b84744"
      },
      "cell_type": "code",
      "source": [
        "df.plot(figsize=(15, 5))\n"
      ],
      "execution_count": 17,
      "outputs": [
        {
          "output_type": "execute_result",
          "data": {
            "text/plain": [
              "<matplotlib.axes._subplots.AxesSubplot at 0x7f15b83ce588>"
            ]
          },
          "metadata": {
            "tags": []
          },
          "execution_count": 17
        },
        {
          "output_type": "display_data",
          "data": {
            "image/png": "[encoded data removed]",
            "text/plain": [
              "<matplotlib.figure.Figure at 0x7f15cb39d6d8>"
            ]
          },
          "metadata": {
            "tags": []
          }
        }
      ]
    },
    {
      "metadata": {
        "id": "ORPEyVbNq59D",
        "colab_type": "code",
        "colab": {
          "base_uri": "https://localhost:8080/",
          "height": 353
        },
        "outputId": "2311bd9a-a7e4-45e4-9bee-e414eb3cf46e"
      },
      "cell_type": "code",
      "source": [
        "df4.plot.bar(figsize=(15, 5), stacked=True, rot=0)"
      ],
      "execution_count": 18,
      "outputs": [
        {
          "output_type": "execute_result",
          "data": {
            "text/plain": [
              "<matplotlib.axes._subplots.AxesSubplot at 0x7f15b8d0fa58>"
            ]
          },
          "metadata": {
            "tags": []
          },
          "execution_count": 18
        },
        {
          "output_type": "display_data",
          "data": {
            "image/png": "[encoded data removed]",
            "text/plain": [
              "<matplotlib.figure.Figure at 0x7f15b8d2b358>"
            ]
          },
          "metadata": {
            "tags": []
          }
        }
      ]
    },
    {
      "metadata": {
        "id": "WjOru_mjqlN9",
        "colab_type": "code",
        "colab": {}
      },
      "cell_type": "code",
      "source": [
        "df5 = df_pre_day.copy()\n",
        "df6 = df_pre_week.copy()\n",
        "\n",
        "df5.index = df5.index.strftime(\"%d\")\n",
        "df6.index = df6.index.strftime(\"%d\")"
      ],
      "execution_count": 0,
      "outputs": []
    },
    {
      "metadata": {
        "id": "WOfFQCmupEFj",
        "colab_type": "code",
        "colab": {
          "base_uri": "https://localhost:8080/",
          "height": 353
        },
        "outputId": "dff9a5a8-c45d-4fb4-f1ab-dc9ea9a5a87e"
      },
      "cell_type": "code",
      "source": [
        "df5.plot.bar(figsize=(15, 5), rot=0)"
      ],
      "execution_count": 20,
      "outputs": [
        {
          "output_type": "execute_result",
          "data": {
            "text/plain": [
              "<matplotlib.axes._subplots.AxesSubplot at 0x7f15baee29b0>"
            ]
          },
          "metadata": {
            "tags": []
          },
          "execution_count": 20
        },
        {
          "output_type": "display_data",
          "data": {
            "image/png": "[encoded data removed]",
            "text/plain": [
              "<matplotlib.figure.Figure at 0x7f15b8da16a0>"
            ]
          },
          "metadata": {
            "tags": []
          }
        }
      ]
    },
    {
      "metadata": {
        "id": "nwoaxsfVpLo6",
        "colab_type": "code",
        "colab": {
          "base_uri": "https://localhost:8080/",
          "height": 353
        },
        "outputId": "1bb9eb6d-672c-483d-f5b2-3e30d48e7034"
      },
      "cell_type": "code",
      "source": [
        "df6.plot.bar(figsize=(15, 5), rot=0)"
      ],
      "execution_count": 21,
      "outputs": [
        {
          "output_type": "execute_result",
          "data": {
            "text/plain": [
              "<matplotlib.axes._subplots.AxesSubplot at 0x7f15b71bcb00>"
            ]
          },
          "metadata": {
            "tags": []
          },
          "execution_count": 21
        },
        {
          "output_type": "display_data",
          "data": {
            "image/png": "[encoded data removed]",
            "text/plain": [
              "<matplotlib.figure.Figure at 0x7f15b72966a0>"
            ]
          },
          "metadata": {
            "tags": []
          }
        }
      ]
    }
  ]
}